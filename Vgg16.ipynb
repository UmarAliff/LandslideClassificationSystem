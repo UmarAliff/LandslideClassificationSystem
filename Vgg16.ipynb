{
 "cells": [
  {
   "cell_type": "code",
   "execution_count": 1,
   "metadata": {},
   "outputs": [
    {
     "name": "stdout",
     "output_type": "stream",
     "text": [
      "Found 1050 images belonging to 3 classes.\n",
      "Found 450 images belonging to 3 classes.\n",
      "Found 9 images belonging to 3 classes.\n"
     ]
    }
   ],
   "source": [
    "from tensorflow.keras.layers import Conv2D, Activation, Flatten, Dense, MaxPooling2D, BatchNormalization, Dropout, GlobalAveragePooling2D\n",
    "from tensorflow.keras.applications import VGG16\n",
    "from tensorflow.keras.preprocessing.image import ImageDataGenerator, load_img\n",
    "from tensorflow.keras.models import Model, Sequential\n",
    "from tensorflow.keras import Input, optimizers\n",
    "import tensorflow as tf\n",
    "import matplotlib.pyplot as plt \n",
    "import numpy as np\n",
    "\n",
    "base_dir = \"Splitted_70-30\"\n",
    "test_dir = \"test_img\"\n",
    "BATCH_SIZE = 32\n",
    "IMAGE_SIZE = 224\n",
    "\n",
    "datagen = ImageDataGenerator(\n",
    "     rotation_range=30,\n",
    "     width_shift_range=0.2,\n",
    "     height_shift_range=0.2,\n",
    "     zoom_range = 0.2,\n",
    "     horizontal_flip=True,\n",
    "     shear_range=0.2\n",
    "    )\n",
    "\n",
    "traingen = datagen.flow_from_directory(base_dir + \"/train\", \n",
    "target_size=(IMAGE_SIZE,IMAGE_SIZE),\n",
    "batch_size=BATCH_SIZE,\n",
    "class_mode=\"categorical\")\n",
    "\n",
    "valgen = datagen.flow_from_directory(base_dir + \"/val\", \n",
    "target_size=(IMAGE_SIZE,IMAGE_SIZE),\n",
    "batch_size=BATCH_SIZE,\n",
    "class_mode=\"categorical\")\n",
    "\n",
    "testgen = datagen.flow_from_directory(test_dir + \"/test\", \n",
    "target_size=(IMAGE_SIZE,IMAGE_SIZE),\n",
    "batch_size=1,\n",
    "class_mode=\"categorical\")"
   ]
  },
  {
   "cell_type": "code",
   "execution_count": 2,
   "metadata": {},
   "outputs": [
    {
     "name": "stdout",
     "output_type": "stream",
     "text": [
      "{'debrisflow': 0, 'earthflow': 1, 'rockfall': 2}\n",
      "{'debrisflow': 0, 'earthflow': 1, 'rockfall': 2}\n",
      "{'debrisflow': 0, 'earthflow': 1, 'rockfall': 2}\n"
     ]
    }
   ],
   "source": [
    "print(traingen.class_indices)\n",
    "print(valgen.class_indices)\n",
    "print(testgen.class_indices)"
   ]
  },
  {
   "cell_type": "code",
   "execution_count": 3,
   "metadata": {},
   "outputs": [
    {
     "name": "stdout",
     "output_type": "stream",
     "text": [
      "Epoch 1/100\n",
      "33/33 [==============================] - 102s 3s/step - loss: 18.5983 - accuracy: 0.5200 - val_loss: 1.5920 - val_accuracy: 0.6600\n",
      "Epoch 2/100\n",
      "33/33 [==============================] - 101s 3s/step - loss: 1.1149 - accuracy: 0.6867 - val_loss: 0.7906 - val_accuracy: 0.7222\n",
      "Epoch 3/100\n",
      "33/33 [==============================] - 101s 3s/step - loss: 0.6706 - accuracy: 0.7495 - val_loss: 0.6265 - val_accuracy: 0.7622\n",
      "Epoch 4/100\n",
      "33/33 [==============================] - 101s 3s/step - loss: 0.5184 - accuracy: 0.7876 - val_loss: 0.5616 - val_accuracy: 0.7622\n",
      "Epoch 5/100\n",
      "33/33 [==============================] - 104s 3s/step - loss: 0.4943 - accuracy: 0.8076 - val_loss: 0.5429 - val_accuracy: 0.7956\n",
      "Epoch 6/100\n",
      "33/33 [==============================] - 104s 3s/step - loss: 0.4331 - accuracy: 0.8352 - val_loss: 0.5528 - val_accuracy: 0.7889\n",
      "Epoch 7/100\n",
      "33/33 [==============================] - 104s 3s/step - loss: 0.3572 - accuracy: 0.8648 - val_loss: 0.5450 - val_accuracy: 0.7978\n",
      "Epoch 8/100\n",
      "33/33 [==============================] - 104s 3s/step - loss: 0.3653 - accuracy: 0.8590 - val_loss: 0.4908 - val_accuracy: 0.8156\n",
      "Epoch 9/100\n",
      "33/33 [==============================] - 104s 3s/step - loss: 0.3058 - accuracy: 0.8905 - val_loss: 0.5947 - val_accuracy: 0.8000\n",
      "Epoch 10/100\n",
      "33/33 [==============================] - 104s 3s/step - loss: 0.3176 - accuracy: 0.8857 - val_loss: 0.3952 - val_accuracy: 0.8467\n",
      "Epoch 11/100\n",
      "33/33 [==============================] - 104s 3s/step - loss: 0.3012 - accuracy: 0.8914 - val_loss: 0.3723 - val_accuracy: 0.8644\n",
      "Epoch 12/100\n",
      "33/33 [==============================] - 104s 3s/step - loss: 0.2518 - accuracy: 0.8943 - val_loss: 0.3302 - val_accuracy: 0.8822\n",
      "Epoch 13/100\n",
      "33/33 [==============================] - 104s 3s/step - loss: 0.2601 - accuracy: 0.8981 - val_loss: 0.3113 - val_accuracy: 0.8800\n",
      "Epoch 14/100\n",
      "33/33 [==============================] - 104s 3s/step - loss: 0.2279 - accuracy: 0.9162 - val_loss: 0.3128 - val_accuracy: 0.8778\n",
      "Epoch 15/100\n",
      "33/33 [==============================] - 105s 3s/step - loss: 0.2471 - accuracy: 0.9057 - val_loss: 0.2603 - val_accuracy: 0.8956\n",
      "Epoch 16/100\n",
      "33/33 [==============================] - 104s 3s/step - loss: 0.2083 - accuracy: 0.9314 - val_loss: 0.2937 - val_accuracy: 0.8956\n",
      "Epoch 17/100\n",
      "33/33 [==============================] - 104s 3s/step - loss: 0.2354 - accuracy: 0.9133 - val_loss: 0.2631 - val_accuracy: 0.9111\n",
      "Epoch 18/100\n",
      "33/33 [==============================] - 104s 3s/step - loss: 0.2051 - accuracy: 0.9210 - val_loss: 0.2885 - val_accuracy: 0.8933\n",
      "Epoch 19/100\n",
      "33/33 [==============================] - 104s 3s/step - loss: 0.2157 - accuracy: 0.9200 - val_loss: 0.2681 - val_accuracy: 0.9000\n",
      "Epoch 20/100\n",
      "33/33 [==============================] - 104s 3s/step - loss: 0.1890 - accuracy: 0.9257 - val_loss: 0.2613 - val_accuracy: 0.8889\n",
      "Epoch 21/100\n",
      "33/33 [==============================] - 104s 3s/step - loss: 0.1947 - accuracy: 0.9276 - val_loss: 0.3602 - val_accuracy: 0.8689\n",
      "Epoch 22/100\n",
      "33/33 [==============================] - 104s 3s/step - loss: 0.1593 - accuracy: 0.9381 - val_loss: 0.2219 - val_accuracy: 0.9311\n",
      "Epoch 23/100\n",
      "33/33 [==============================] - 105s 3s/step - loss: 0.1428 - accuracy: 0.9467 - val_loss: 0.2389 - val_accuracy: 0.9111\n",
      "Epoch 24/100\n",
      "33/33 [==============================] - 104s 3s/step - loss: 0.1396 - accuracy: 0.9457 - val_loss: 0.1791 - val_accuracy: 0.9333\n",
      "Epoch 25/100\n",
      "33/33 [==============================] - 104s 3s/step - loss: 0.1784 - accuracy: 0.9390 - val_loss: 0.2572 - val_accuracy: 0.9178\n",
      "Epoch 26/100\n",
      "33/33 [==============================] - 104s 3s/step - loss: 0.1986 - accuracy: 0.9248 - val_loss: 0.2683 - val_accuracy: 0.8978\n",
      "Epoch 27/100\n",
      "33/33 [==============================] - 104s 3s/step - loss: 0.1730 - accuracy: 0.9390 - val_loss: 0.2380 - val_accuracy: 0.9156\n",
      "Epoch 28/100\n",
      "33/33 [==============================] - 104s 3s/step - loss: 0.1903 - accuracy: 0.9305 - val_loss: 0.2806 - val_accuracy: 0.9089\n",
      "Epoch 29/100\n",
      "33/33 [==============================] - 104s 3s/step - loss: 0.1291 - accuracy: 0.9562 - val_loss: 0.2011 - val_accuracy: 0.9311\n",
      "Epoch 30/100\n",
      "33/33 [==============================] - 104s 3s/step - loss: 0.1522 - accuracy: 0.9467 - val_loss: 0.1566 - val_accuracy: 0.9489\n",
      "Epoch 31/100\n",
      "33/33 [==============================] - 104s 3s/step - loss: 0.1224 - accuracy: 0.9562 - val_loss: 0.1622 - val_accuracy: 0.9333\n",
      "Epoch 32/100\n",
      "33/33 [==============================] - 105s 3s/step - loss: 0.1643 - accuracy: 0.9419 - val_loss: 0.2374 - val_accuracy: 0.9044\n",
      "Epoch 33/100\n",
      "33/33 [==============================] - 104s 3s/step - loss: 0.1145 - accuracy: 0.9619 - val_loss: 0.1788 - val_accuracy: 0.9422\n",
      "Epoch 34/100\n",
      "33/33 [==============================] - 104s 3s/step - loss: 0.1454 - accuracy: 0.9476 - val_loss: 0.1583 - val_accuracy: 0.9378\n",
      "Epoch 35/100\n",
      "33/33 [==============================] - 104s 3s/step - loss: 0.1243 - accuracy: 0.9533 - val_loss: 0.1484 - val_accuracy: 0.9511\n",
      "Epoch 36/100\n",
      "33/33 [==============================] - 104s 3s/step - loss: 0.1200 - accuracy: 0.9524 - val_loss: 0.1779 - val_accuracy: 0.9356\n",
      "Epoch 37/100\n",
      "33/33 [==============================] - 104s 3s/step - loss: 0.0907 - accuracy: 0.9648 - val_loss: 0.1429 - val_accuracy: 0.9533\n",
      "Epoch 38/100\n",
      "33/33 [==============================] - 104s 3s/step - loss: 0.0944 - accuracy: 0.9610 - val_loss: 0.2750 - val_accuracy: 0.9200\n",
      "Epoch 39/100\n",
      "33/33 [==============================] - 104s 3s/step - loss: 0.0896 - accuracy: 0.9657 - val_loss: 0.1710 - val_accuracy: 0.9556\n",
      "Epoch 40/100\n",
      "33/33 [==============================] - 104s 3s/step - loss: 0.1032 - accuracy: 0.9610 - val_loss: 0.1508 - val_accuracy: 0.9533\n",
      "Epoch 41/100\n",
      "33/33 [==============================] - 106s 3s/step - loss: 0.1274 - accuracy: 0.9524 - val_loss: 0.1843 - val_accuracy: 0.9400\n",
      "Epoch 42/100\n",
      "33/33 [==============================] - 105s 3s/step - loss: 0.1056 - accuracy: 0.9629 - val_loss: 0.1943 - val_accuracy: 0.9489\n",
      "Epoch 43/100\n",
      "33/33 [==============================] - 104s 3s/step - loss: 0.1494 - accuracy: 0.9467 - val_loss: 0.1469 - val_accuracy: 0.9444\n",
      "Epoch 44/100\n",
      "33/33 [==============================] - 104s 3s/step - loss: 0.1216 - accuracy: 0.9581 - val_loss: 0.1703 - val_accuracy: 0.9356\n",
      "Epoch 45/100\n",
      "33/33 [==============================] - 104s 3s/step - loss: 0.0871 - accuracy: 0.9695 - val_loss: 0.1629 - val_accuracy: 0.9378\n",
      "Epoch 46/100\n",
      "33/33 [==============================] - 104s 3s/step - loss: 0.0960 - accuracy: 0.9667 - val_loss: 0.1290 - val_accuracy: 0.9533\n",
      "Epoch 47/100\n",
      "33/33 [==============================] - 104s 3s/step - loss: 0.1000 - accuracy: 0.9600 - val_loss: 0.1739 - val_accuracy: 0.9489\n",
      "Epoch 48/100\n",
      "33/33 [==============================] - 104s 3s/step - loss: 0.1000 - accuracy: 0.9619 - val_loss: 0.1928 - val_accuracy: 0.9311\n",
      "Epoch 49/100\n",
      "33/33 [==============================] - 104s 3s/step - loss: 0.1182 - accuracy: 0.9590 - val_loss: 0.1673 - val_accuracy: 0.9400\n",
      "Epoch 50/100\n",
      "33/33 [==============================] - 105s 3s/step - loss: 0.1274 - accuracy: 0.9590 - val_loss: 0.2426 - val_accuracy: 0.9222\n",
      "Epoch 51/100\n",
      "33/33 [==============================] - 104s 3s/step - loss: 0.1295 - accuracy: 0.9571 - val_loss: 0.2685 - val_accuracy: 0.9222\n",
      "Epoch 52/100\n",
      "33/33 [==============================] - 104s 3s/step - loss: 0.1174 - accuracy: 0.9600 - val_loss: 0.2089 - val_accuracy: 0.9311\n",
      "Epoch 53/100\n",
      "33/33 [==============================] - 104s 3s/step - loss: 0.1392 - accuracy: 0.9505 - val_loss: 0.1621 - val_accuracy: 0.9489\n",
      "Epoch 54/100\n",
      "33/33 [==============================] - 104s 3s/step - loss: 0.0939 - accuracy: 0.9676 - val_loss: 0.1498 - val_accuracy: 0.9511\n",
      "Epoch 55/100\n",
      "33/33 [==============================] - 104s 3s/step - loss: 0.1245 - accuracy: 0.9571 - val_loss: 0.1286 - val_accuracy: 0.9489\n",
      "Epoch 56/100\n",
      "33/33 [==============================] - 104s 3s/step - loss: 0.1507 - accuracy: 0.9524 - val_loss: 0.2210 - val_accuracy: 0.9333\n",
      "Epoch 57/100\n",
      "33/33 [==============================] - 104s 3s/step - loss: 0.1028 - accuracy: 0.9629 - val_loss: 0.3380 - val_accuracy: 0.9000\n",
      "Epoch 58/100\n",
      "33/33 [==============================] - 105s 3s/step - loss: 0.0727 - accuracy: 0.9771 - val_loss: 0.1014 - val_accuracy: 0.9622\n",
      "Epoch 59/100\n",
      "33/33 [==============================] - 104s 3s/step - loss: 0.1104 - accuracy: 0.9695 - val_loss: 0.1188 - val_accuracy: 0.9600\n",
      "Epoch 60/100\n",
      "33/33 [==============================] - 104s 3s/step - loss: 0.0887 - accuracy: 0.9676 - val_loss: 0.0821 - val_accuracy: 0.9778\n",
      "Epoch 61/100\n",
      "33/33 [==============================] - 104s 3s/step - loss: 0.1037 - accuracy: 0.9676 - val_loss: 0.1491 - val_accuracy: 0.9422\n",
      "Epoch 62/100\n",
      "33/33 [==============================] - 104s 3s/step - loss: 0.1166 - accuracy: 0.9695 - val_loss: 0.1620 - val_accuracy: 0.9244\n",
      "Epoch 63/100\n",
      "33/33 [==============================] - 104s 3s/step - loss: 0.0840 - accuracy: 0.9733 - val_loss: 0.1436 - val_accuracy: 0.9556\n",
      "Epoch 64/100\n",
      "33/33 [==============================] - 104s 3s/step - loss: 0.0837 - accuracy: 0.9686 - val_loss: 0.1661 - val_accuracy: 0.9467\n",
      "Epoch 65/100\n",
      "33/33 [==============================] - 104s 3s/step - loss: 0.0545 - accuracy: 0.9781 - val_loss: 0.1912 - val_accuracy: 0.9400\n",
      "Epoch 66/100\n",
      "33/33 [==============================] - 104s 3s/step - loss: 0.0745 - accuracy: 0.9733 - val_loss: 0.1289 - val_accuracy: 0.9578\n",
      "Epoch 67/100\n",
      "33/33 [==============================] - 105s 3s/step - loss: 0.1105 - accuracy: 0.9638 - val_loss: 0.1229 - val_accuracy: 0.9533\n",
      "Epoch 68/100\n",
      "33/33 [==============================] - 104s 3s/step - loss: 0.1118 - accuracy: 0.9571 - val_loss: 0.1305 - val_accuracy: 0.9578\n",
      "Epoch 69/100\n",
      "33/33 [==============================] - 104s 3s/step - loss: 0.1002 - accuracy: 0.9686 - val_loss: 0.1266 - val_accuracy: 0.9578\n",
      "Epoch 70/100\n",
      "33/33 [==============================] - 104s 3s/step - loss: 0.0592 - accuracy: 0.9762 - val_loss: 0.1876 - val_accuracy: 0.9600\n",
      "Epoch 71/100\n",
      "33/33 [==============================] - 104s 3s/step - loss: 0.0959 - accuracy: 0.9686 - val_loss: 0.1075 - val_accuracy: 0.9622\n",
      "Epoch 72/100\n",
      "33/33 [==============================] - 104s 3s/step - loss: 0.0704 - accuracy: 0.9733 - val_loss: 0.1535 - val_accuracy: 0.9689\n",
      "Epoch 73/100\n",
      "33/33 [==============================] - 104s 3s/step - loss: 0.0931 - accuracy: 0.9686 - val_loss: 0.0976 - val_accuracy: 0.9622\n",
      "Epoch 74/100\n",
      "33/33 [==============================] - 104s 3s/step - loss: 0.0615 - accuracy: 0.9810 - val_loss: 0.1233 - val_accuracy: 0.9578\n",
      "Epoch 75/100\n",
      "33/33 [==============================] - 104s 3s/step - loss: 0.1303 - accuracy: 0.9619 - val_loss: 0.2177 - val_accuracy: 0.9356\n",
      "Epoch 76/100\n",
      "33/33 [==============================] - 105s 3s/step - loss: 0.1011 - accuracy: 0.9743 - val_loss: 0.1401 - val_accuracy: 0.9489\n",
      "Epoch 77/100\n",
      "33/33 [==============================] - 105s 3s/step - loss: 0.0867 - accuracy: 0.9667 - val_loss: 0.2248 - val_accuracy: 0.9378\n",
      "Epoch 78/100\n",
      "33/33 [==============================] - 104s 3s/step - loss: 0.0946 - accuracy: 0.9648 - val_loss: 0.1111 - val_accuracy: 0.9689\n",
      "Epoch 79/100\n",
      "33/33 [==============================] - 104s 3s/step - loss: 0.0576 - accuracy: 0.9790 - val_loss: 0.1462 - val_accuracy: 0.9511\n",
      "Epoch 80/100\n",
      "33/33 [==============================] - 104s 3s/step - loss: 0.0676 - accuracy: 0.9752 - val_loss: 0.1392 - val_accuracy: 0.9622\n",
      "Epoch 81/100\n",
      "33/33 [==============================] - 104s 3s/step - loss: 0.0659 - accuracy: 0.9771 - val_loss: 0.0730 - val_accuracy: 0.9756\n",
      "Epoch 82/100\n",
      "33/33 [==============================] - 104s 3s/step - loss: 0.0684 - accuracy: 0.9781 - val_loss: 0.0849 - val_accuracy: 0.9578\n",
      "Epoch 83/100\n",
      "33/33 [==============================] - 104s 3s/step - loss: 0.0727 - accuracy: 0.9733 - val_loss: 0.1354 - val_accuracy: 0.9578\n",
      "Epoch 84/100\n",
      "33/33 [==============================] - 104s 3s/step - loss: 0.0906 - accuracy: 0.9686 - val_loss: 0.0875 - val_accuracy: 0.9689\n",
      "Epoch 85/100\n",
      "33/33 [==============================] - 105s 3s/step - loss: 0.0654 - accuracy: 0.9752 - val_loss: 0.1216 - val_accuracy: 0.9644\n",
      "Epoch 86/100\n",
      "33/33 [==============================] - 104s 3s/step - loss: 0.0916 - accuracy: 0.9657 - val_loss: 0.1442 - val_accuracy: 0.9600\n",
      "Epoch 87/100\n",
      "33/33 [==============================] - 104s 3s/step - loss: 0.0456 - accuracy: 0.9848 - val_loss: 0.1459 - val_accuracy: 0.9489\n",
      "Epoch 88/100\n",
      "33/33 [==============================] - 104s 3s/step - loss: 0.0828 - accuracy: 0.9762 - val_loss: 0.1007 - val_accuracy: 0.9667\n",
      "Epoch 89/100\n",
      "33/33 [==============================] - 104s 3s/step - loss: 0.0756 - accuracy: 0.9724 - val_loss: 0.1600 - val_accuracy: 0.9400\n",
      "Epoch 90/100\n",
      "33/33 [==============================] - 104s 3s/step - loss: 0.0543 - accuracy: 0.9829 - val_loss: 0.1518 - val_accuracy: 0.9578\n",
      "Epoch 91/100\n",
      "33/33 [==============================] - 104s 3s/step - loss: 0.0793 - accuracy: 0.9752 - val_loss: 0.1251 - val_accuracy: 0.9667\n",
      "Epoch 92/100\n",
      "33/33 [==============================] - 104s 3s/step - loss: 0.0877 - accuracy: 0.9724 - val_loss: 0.1040 - val_accuracy: 0.9622\n",
      "Epoch 93/100\n",
      "33/33 [==============================] - 105s 3s/step - loss: 0.0837 - accuracy: 0.9752 - val_loss: 0.1071 - val_accuracy: 0.9622\n",
      "Epoch 94/100\n",
      "33/33 [==============================] - 104s 3s/step - loss: 0.0651 - accuracy: 0.9714 - val_loss: 0.1113 - val_accuracy: 0.9667\n",
      "Epoch 95/100\n",
      "33/33 [==============================] - 104s 3s/step - loss: 0.0550 - accuracy: 0.9771 - val_loss: 0.1292 - val_accuracy: 0.9600\n",
      "Epoch 96/100\n",
      "33/33 [==============================] - 104s 3s/step - loss: 0.0904 - accuracy: 0.9705 - val_loss: 0.1413 - val_accuracy: 0.9556\n",
      "Epoch 97/100\n",
      "33/33 [==============================] - 104s 3s/step - loss: 0.0686 - accuracy: 0.9752 - val_loss: 0.1150 - val_accuracy: 0.9644\n",
      "Epoch 98/100\n",
      "33/33 [==============================] - 104s 3s/step - loss: 0.0618 - accuracy: 0.9819 - val_loss: 0.1205 - val_accuracy: 0.9667\n",
      "Epoch 99/100\n",
      "33/33 [==============================] - 104s 3s/step - loss: 0.0700 - accuracy: 0.9771 - val_loss: 0.1874 - val_accuracy: 0.9467\n",
      "Epoch 100/100\n",
      "33/33 [==============================] - 104s 3s/step - loss: 0.0718 - accuracy: 0.9800 - val_loss: 0.1095 - val_accuracy: 0.9711\n"
     ]
    }
   ],
   "source": [
    "with tf.device('/device:GPU:0'):\n",
    "  model = Sequential()\n",
    "\n",
    "  model.add(VGG16(include_top=False, weights='imagenet',input_tensor=Input(shape=(IMAGE_SIZE,IMAGE_SIZE,3))))\n",
    "  model.add(MaxPooling2D())\n",
    "\n",
    "  model.add(Flatten())\n",
    "  model.add(Dense(512, activation='relu'))\n",
    "  model.add(Dense(3))\n",
    "  model.add(Activation('softmax'))\n",
    "\n",
    "  model.layers[0].trainable = False\n",
    "\n",
    "  \n",
    "  model.compile(optimizer='adam', loss='categorical_crossentropy', metrics=['accuracy'])\n",
    "\n",
    "  history = model.fit(traingen, validation_data=valgen, epochs=100)\n",
    "\n",
    "  model.save('Saved_Model/VGG70-30_100epochs.h5')"
   ]
  },
  {
   "cell_type": "code",
   "execution_count": 4,
   "metadata": {},
   "outputs": [
    {
     "name": "stdout",
     "output_type": "stream",
     "text": [
      "Model: \"sequential\"\n",
      "_________________________________________________________________\n",
      " Layer (type)                Output Shape              Param #   \n",
      "=================================================================\n",
      " vgg16 (Functional)          (None, 7, 7, 512)         14714688  \n",
      "                                                                 \n",
      " max_pooling2d (MaxPooling2D  (None, 3, 3, 512)        0         \n",
      " )                                                               \n",
      "                                                                 \n",
      " flatten (Flatten)           (None, 4608)              0         \n",
      "                                                                 \n",
      " dense (Dense)               (None, 512)               2359808   \n",
      "                                                                 \n",
      " dense_1 (Dense)             (None, 3)                 1539      \n",
      "                                                                 \n",
      " activation (Activation)     (None, 3)                 0         \n",
      "                                                                 \n",
      "=================================================================\n",
      "Total params: 17,076,035\n",
      "Trainable params: 2,361,347\n",
      "Non-trainable params: 14,714,688\n",
      "_________________________________________________________________\n"
     ]
    }
   ],
   "source": [
    " model.summary()"
   ]
  },
  {
   "cell_type": "code",
   "execution_count": 5,
   "metadata": {},
   "outputs": [
    {
     "data": {
      "image/png": "[encoded data removed]",
      "text/plain": [
       "<Figure size 576x576 with 2 Axes>"
      ]
     },
     "metadata": {
      "needs_background": "light"
     },
     "output_type": "display_data"
    }
   ],
   "source": [
    "acc = history.history['accuracy']\n",
    "val_acc = history.history['val_accuracy']\n",
    "\n",
    "loss = history.history['loss']\n",
    "val_loss = history.history['val_loss']\n",
    "\n",
    "epochs_range = range(100)\n",
    "\n",
    "plt.figure(figsize=(8, 8))\n",
    "plt.subplot(1, 2, 1)\n",
    "plt.plot(epochs_range, acc, label='Training Accuracy')\n",
    "plt.plot(epochs_range, val_acc, label='Validation Accuracy')\n",
    "plt.legend(loc='lower right')\n",
    "plt.title('ACCURACY')\n",
    "\n",
    "plt.subplot(1, 2, 2)\n",
    "plt.plot(epochs_range, loss, label='Training Loss')\n",
    "plt.plot(epochs_range, val_loss, label='Validation Loss')\n",
    "plt.legend(loc='upper left')\n",
    "plt.title('LOSS')\n",
    "\n",
    "plt.savefig('Splitted')"
   ]
  },
  {
   "cell_type": "code",
   "execution_count": 6,
   "metadata": {},
   "outputs": [],
   "source": [
    "train_predictions = np.argmax(model.predict(traingen), axis=1)\n",
    "class_predictions = np.argmax(model.predict(testgen), axis=1)"
   ]
  },
  {
   "cell_type": "code",
   "execution_count": 7,
   "metadata": {},
   "outputs": [
    {
     "name": "stdout",
     "output_type": "stream",
     "text": [
      "9/9 [==============================] - 1s 93ms/step - loss: 3.7882 - accuracy: 0.4444\n",
      "Loss of the model is -  3.7881948947906494\n",
      "9/9 [==============================] - 1s 93ms/step - loss: 2.7637 - accuracy: 0.5556\n",
      "Accuracy of the model is -  55.55555820465088 %\n"
     ]
    }
   ],
   "source": [
    "print(\"Loss of the model is - \" , model.evaluate(testgen)[0])\n",
    "print(\"Accuracy of the model is - \" , model.evaluate(testgen)[1]*100 , \"%\")"
   ]
  },
  {
   "cell_type": "code",
   "execution_count": 8,
   "metadata": {},
   "outputs": [
    {
     "name": "stdout",
     "output_type": "stream",
     "text": [
      "              precision    recall  f1-score   support\n",
      "\n",
      "           0       1.00      0.67      0.80         3\n",
      "           1       1.00      0.33      0.50         3\n",
      "           2       0.50      1.00      0.67         3\n",
      "\n",
      "    accuracy                           0.67         9\n",
      "   macro avg       0.83      0.67      0.66         9\n",
      "weighted avg       0.83      0.67      0.66         9\n",
      "\n"
     ]
    },
    {
     "data": {
      "image/png": "[encoded data removed]",
      "text/plain": [
       "<Figure size 432x288 with 2 Axes>"
      ]
     },
     "metadata": {
      "needs_background": "light"
     },
     "output_type": "display_data"
    }
   ],
   "source": [
    "from sklearn.metrics import confusion_matrix, classification_report\n",
    "from sklearn.metrics import ConfusionMatrixDisplay\n",
    "\n",
    "labels = [\"debrisflow\", \"earthflow\", \"rockfall\"]\n",
    "\n",
    "print(classification_report(testgen.labels,class_predictions))\n",
    "\n",
    "cm = confusion_matrix(testgen.labels,class_predictions)\n",
    "disp = ConfusionMatrixDisplay(confusion_matrix=cm, display_labels=labels)\n",
    "disp.plot(cmap=plt.cm.Blues)\n",
    "plt.show()"
   ]
  }
 ],
 "metadata": {
  "interpreter": {
   "hash": "47c10f8fd713df555013bf955841f3ae57fb3522b35e9907e2e99a0937efe726"
  },
  "kernelspec": {
   "display_name": "Python 3.9.7 ('base')",
   "language": "python",
   "name": "python3"
  },
  "language_info": {
   "codemirror_mode": {
    "name": "ipython",
    "version": 3
   },
   "file_extension": ".py",
   "mimetype": "text/x-python",
   "name": "python",
   "nbconvert_exporter": "python",
   "pygments_lexer": "ipython3",
   "version": "3.9.7"
  },
  "orig_nbformat": 4
 },
 "nbformat": 4,
 "nbformat_minor": 2
}
